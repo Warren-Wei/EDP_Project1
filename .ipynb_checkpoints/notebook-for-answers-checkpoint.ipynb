{
 "cells": [
  {
   "cell_type": "code",
   "execution_count": 1,
   "metadata": {},
   "outputs": [],
   "source": [
    "#import ....\n",
    "import pandas as pd\n",
    "import numpy as np\n",
    "food = pd.read_csv(\"food_nutrient_2011_13_AHS.csv\", header=0, low_memory=False)"
   ]
  },
  {
   "cell_type": "code",
   "execution_count": 21,
   "metadata": {},
   "outputs": [
    {
     "data": {
      "text/plain": [
       "58"
      ]
     },
     "execution_count": 21,
     "metadata": {},
     "output_type": "execute_result"
    }
   ],
   "source": [
    "#Display first 10 rows for visualisation\n",
    "food.head(10)"
   ]
  },
  {
   "cell_type": "code",
   "execution_count": 22,
   "metadata": {},
   "outputs": [
    {
     "name": "stdout",
     "output_type": "stream",
     "text": [
      "***\n",
      "Q1\n",
      "Number of foods: 5740\n",
      "Number of attributes: 58\n",
      "\n",
      "Food ID                                                object\n",
      "Survey ID                                              object\n",
      "Food Name                                              object\n",
      "Survey flag                                            object\n",
      "Energy, with dietary fibre (kJ)                         int64\n",
      "Energy, without dietary fibre (kJ)                      int64\n",
      "Moisture (g)                                          float64\n",
      "Protein (g)                                           float64\n",
      "Total fat (g)                                         float64\n",
      "Available carbohydrates, with sugar alcohols (g)      float64\n",
      "Available carbohydrates, without sugar alcohol (g)    float64\n",
      "Starch (g)                                            float64\n",
      "Total sugars (g)                                      float64\n",
      "Added sugars (g)                                      float64\n",
      "Free sugars (g)                                       float64\n",
      "Dietary fibre (g)                                     float64\n",
      "Alcohol (g)                                           float64\n",
      "Ash (g)                                               float64\n",
      "Preformed vitamin A (retinol) (µg)                      int64\n",
      "Beta-carotene (µg)                                      int64\n",
      "Provitamin A (b-carotene equivalents) (µg)              int64\n",
      "Vitamin A retinol equivalents (µg)                      int64\n",
      "Thiamin (B1) (mg)                                     float64\n",
      "Riboflavin (B2) (mg)                                  float64\n",
      "Niacin (B3) (mg)                                      float64\n",
      "Niacin derived equivalents (mg)                       float64\n",
      "Folate, natural  (µg)                                   int64\n",
      "Folic acid  (µg)                                        int64\n",
      "Total Folates  (µg)                                     int64\n",
      "Dietary folate equivalents  (µg)                        int64\n",
      "Vitamin B6 (mg)                                       float64\n",
      "Vitamin B12  (µg)                                     float64\n",
      "Vitamin C (mg)                                          int64\n",
      "Alpha-tocopherol (mg)                                 float64\n",
      "Vitamin E (mg)                                        float64\n",
      "Calcium (Ca) (mg)                                       int64\n",
      "Iodine (I) (µg)                                       float64\n",
      "Iron (Fe) (mg)                                        float64\n",
      "Magnesium (Mg) (mg)                                     int64\n",
      "Phosphorus (P) (mg)                                     int64\n",
      "Potassium (K) (mg)                                      int64\n",
      "Selenium (Se) (µg)                                    float64\n",
      "Sodium (Na) (mg)                                        int64\n",
      "Zinc (Zn) (mg)                                        float64\n",
      "Caffeine (mg)                                           int64\n",
      "Cholesterol (mg)                                        int64\n",
      "Tryptophan (mg)                                         int64\n",
      "Total saturated fat (g)                               float64\n",
      "Total monounsaturated fat (g)                         float64\n",
      "Total polyunsaturated fat (g)                         float64\n",
      "Linoleic acid (g)                                     float64\n",
      "Alpha-linolenic acid (g)                              float64\n",
      "C20:5w3 Eicosapentaenoic (mg)                         float64\n",
      "C22:5w3 Docosapentaenoic (mg)                         float64\n",
      "C22:6w3 Docosahexaenoic (mg)                          float64\n",
      "Total long chain omega 3 fatty acids (mg)             float64\n",
      "Total trans fatty acids (mg)                          float64\n",
      "Food categary                                          object\n",
      "dtype: object\n",
      "***\n"
     ]
    }
   ],
   "source": [
    "#Question 1\n",
    "print(\"***\")\n",
    "print(\"Q1\")\n",
    "print(\"Number of foods: \" + str(food.shape[0])) \n",
    "print(\"Number of attributes: \" + str(food.shape[1]) + \"\\n\") #Is it 57 or 58???\n",
    "print(food.dtypes)\n",
    "print(\"***\")"
   ]
  },
  {
   "cell_type": "code",
   "execution_count": 12,
   "metadata": {},
   "outputs": [
    {
     "name": "stdout",
     "output_type": "stream",
     "text": [
      "***\n",
      "Q2\n",
      "Median value of Magnesium: 22.0\n",
      "Mean value of Moisture: 56.3\n",
      "***\n"
     ]
    }
   ],
   "source": [
    "#Question 2\n",
    "print(\"***\")\n",
    "print(\"Q2\")\n",
    "median_Magnesium = food[\"Magnesium (Mg) (mg)\"].median()\n",
    "print(\"Median value of Magnesium: %.1f\" %median_Magnesium)\n",
    "mean_Moisture = food[\"Moisture (g)\"].mean()\n",
    "print(\"Mean value of Moisture: %.1f\" %mean_Moisture)\n",
    "print(\"***\")"
   ]
  },
  {
   "cell_type": "code",
   "execution_count": 38,
   "metadata": {},
   "outputs": [
    {
     "name": "stdout",
     "output_type": "stream",
     "text": [
      "***\n",
      "Q3\n",
      "% of foods which are Cereal based products and dishes (Food category 13) = 15.9%\n",
      "***\n"
     ]
    }
   ],
   "source": [
    "#Question 3\n",
    "\n",
    "# Part a\n",
    "food = food.astype({\"Survey ID\": \"str\"})\n",
    "#print(food.dtypes)\n",
    "\n",
    "# Part b\n",
    "food['Food categary'] = food['Survey ID'].str.slice(0, 2, 1)\n",
    "#food.head()\n",
    "\n",
    "\n",
    "# Part c\n",
    "total_number = food.shape[0]\n",
    "number_of_cat13 = food[food['Food categary'] == '13'].shape[0]\n",
    "percentage = round((number_of_cat13/total_number) * 100, 1)\n",
    "print(\"***\")\n",
    "print(\"Q3\")\n",
    "print(\"% of foods which are Cereal based products and dishes (Food category 13) = \" + str(percentage) + \"%\" )\n",
    "print(\"***\")\n"
   ]
  },
  {
   "cell_type": "code",
   "execution_count": 6,
   "metadata": {},
   "outputs": [],
   "source": [
    "#Question 4\n",
    "#First boxplot to show the distribution of Total fat(g) within foods that are \"Ceral based products and dished\"\n",
    "\n",
    "\n",
    "\n",
    "#Second boxplot to show the distribution of Protein(g) within foods that are \"Cereal based products and dishes\"\n",
    "\n",
    "\n"
   ]
  },
  {
   "cell_type": "code",
   "execution_count": 7,
   "metadata": {},
   "outputs": [],
   "source": [
    "#Question 5"
   ]
  },
  {
   "cell_type": "code",
   "execution_count": 8,
   "metadata": {},
   "outputs": [],
   "source": [
    "#Question 6\n",
    "\n",
    "#Part a\n",
    "\n",
    "\n",
    "\n",
    "#Part b"
   ]
  },
  {
   "cell_type": "code",
   "execution_count": 9,
   "metadata": {},
   "outputs": [],
   "source": [
    "#Question 7\n",
    "\n",
    "#Part a\n",
    "\n",
    "\n",
    "\n",
    "#Part b\n",
    "\n"
   ]
  },
  {
   "cell_type": "code",
   "execution_count": 10,
   "metadata": {},
   "outputs": [],
   "source": [
    "#Question 8\n",
    "\n",
    "\n",
    "#Part a\n",
    "\n",
    "\n",
    "#Part b\n",
    "\n",
    "\n",
    "#Part c\n",
    "\n"
   ]
  },
  {
   "cell_type": "code",
   "execution_count": 11,
   "metadata": {},
   "outputs": [],
   "source": [
    "#Question 9\n",
    "\n",
    "\n",
    "#Part a\n",
    "\n",
    "\n",
    "#Part b\n",
    "\n"
   ]
  }
 ],
 "metadata": {
  "kernelspec": {
   "display_name": "Python 3",
   "language": "python",
   "name": "python3"
  },
  "language_info": {
   "codemirror_mode": {
    "name": "ipython",
    "version": 3
   },
   "file_extension": ".py",
   "mimetype": "text/x-python",
   "name": "python",
   "nbconvert_exporter": "python",
   "pygments_lexer": "ipython3",
   "version": "3.7.1"
  }
 },
 "nbformat": 4,
 "nbformat_minor": 2
}
